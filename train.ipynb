{
 "metadata": {
  "language_info": {
   "codemirror_mode": {
    "name": "ipython",
    "version": 3
   },
   "file_extension": ".py",
   "mimetype": "text/x-python",
   "name": "python",
   "nbconvert_exporter": "python",
   "pygments_lexer": "ipython3",
   "version": "3.6.5-final"
  },
  "orig_nbformat": 2,
  "kernelspec": {
   "name": "python3",
   "display_name": "Python 3",
   "language": "python"
  }
 },
 "nbformat": 4,
 "nbformat_minor": 2,
 "cells": [
  {
   "cell_type": "code",
   "execution_count": 9,
   "metadata": {},
   "outputs": [],
   "source": [
    "import pandas as pd\n",
    "import numpy as np\n",
    "import torch\n",
    "import torch.optim as optim\n",
    "from torch.utils.data import DataLoader\n",
    "from torch.utils.data import sampler\n",
    "import torch.nn as nn\n",
    "import torch.nn.functional as F\n",
    "import torch.optim as optim"
   ]
  },
  {
   "cell_type": "code",
   "execution_count": 10,
   "metadata": {},
   "outputs": [],
   "source": [
    "from sklearn.metrics import log_loss, roc_auc_score, mean_squared_error\n",
    "from sklearn.model_selection import train_test_split\n",
    "from sklearn.preprocessing import LabelEncoder, MinMaxScaler\n",
    "\n",
    "from deepctr.models import DeepFM\n",
    "from deepctr.feature_column import SparseFeat, DenseFeat, get_feature_names"
   ]
  },
  {
   "cell_type": "code",
   "execution_count": 11,
   "metadata": {},
   "outputs": [],
   "source": [
    "data = pd.read_csv('movie_data.csv')\n",
    "target = ['rating']"
   ]
  },
  {
   "cell_type": "code",
   "execution_count": 12,
   "metadata": {},
   "outputs": [],
   "source": [
    "for str in data.columns:\n",
    "    new_str = str.replace(' ', '_')\n",
    "    data.rename(columns={str:new_str}, inplace = True)"
   ]
  },
  {
   "cell_type": "code",
   "execution_count": 13,
   "metadata": {},
   "outputs": [],
   "source": [
    "sparse_features = data.columns\n",
    "\n",
    "# 1.Label Encoding for sparse features,and do simple Transformation for dense features\n",
    "for feat in sparse_features:\n",
    "    lbe = LabelEncoder()\n",
    "    data[feat] = lbe.fit_transform(data[feat])\n",
    "# 2.count #unique features for each sparse field\n",
    "fixlen_feature_columns = [SparseFeat(feat, data[feat].nunique()) for feat in sparse_features]\n",
    "linear_feature_columns = fixlen_feature_columns\n",
    "dnn_feature_columns = fixlen_feature_columns\n",
    "feature_names = get_feature_names(linear_feature_columns + dnn_feature_columns)"
   ]
  },
  {
   "cell_type": "code",
   "execution_count": 14,
   "metadata": {},
   "outputs": [
    {
     "output_type": "stream",
     "name": "stdout",
     "text": [
      "cuda ready...\n",
      "Train on 28823 samples, validate on 7206 samples\n",
      "Epoch 1/10\n",
      " - 6s - loss: 8.7422 - mean_squared_error: 8.7422 - val_loss: 0.5612 - val_mean_squared_error: 0.5611\n",
      "Epoch 2/10\n",
      " - 1s - loss: 0.0927 - mean_squared_error: 0.0926 - val_loss: 0.0040 - val_mean_squared_error: 0.0039\n",
      "Epoch 3/10\n",
      " - 1s - loss: 0.0011 - mean_squared_error: 0.0010 - val_loss: 4.8073e-04 - val_mean_squared_error: 3.9254e-04\n",
      "Epoch 4/10\n",
      " - 1s - loss: 2.9077e-04 - mean_squared_error: 2.0261e-04 - val_loss: 2.7978e-04 - val_mean_squared_error: 1.9169e-04\n",
      "Epoch 5/10\n",
      " - 1s - loss: 1.9957e-04 - mean_squared_error: 1.1159e-04 - val_loss: 2.1525e-04 - val_mean_squared_error: 1.2739e-04\n",
      "Epoch 6/10\n",
      " - 1s - loss: 1.5693e-04 - mean_squared_error: 6.9181e-05 - val_loss: 1.8014e-04 - val_mean_squared_error: 9.2531e-05\n",
      "Epoch 7/10\n",
      " - 1s - loss: 1.4080e-04 - mean_squared_error: 5.3373e-05 - val_loss: 1.7827e-04 - val_mean_squared_error: 9.1020e-05\n",
      "Epoch 8/10\n",
      " - 1s - loss: 1.3994e-04 - mean_squared_error: 5.2874e-05 - val_loss: 1.4989e-04 - val_mean_squared_error: 6.3021e-05\n",
      "Epoch 9/10\n",
      " - 1s - loss: 1.2380e-04 - mean_squared_error: 3.7129e-05 - val_loss: 1.4166e-04 - val_mean_squared_error: 5.5220e-05\n",
      "Epoch 10/10\n",
      " - 1s - loss: 1.3000e-04 - mean_squared_error: 4.3780e-05 - val_loss: 1.9354e-04 - val_mean_squared_error: 1.0753e-04\n",
      "test MSE 0.0001\n"
     ]
    }
   ],
   "source": [
    "# 3.generate input data for model\n",
    "train, test = train_test_split(data, test_size=0.2)\n",
    "train_model_input = {name: train[name] for name in feature_names}\n",
    "test_model_input = {name: test[name] for name in feature_names}\n",
    "\n",
    "# 4.Define Model,train,predict and evaluate\n",
    "device = 'cpu'\n",
    "use_cuda = True\n",
    "if use_cuda and torch.cuda.is_available():\n",
    "    print('cuda ready...')\n",
    "    device = 'cuda:0'\n",
    "\n",
    "model = DeepFM(linear_feature_columns, dnn_feature_columns, task='regression')\n",
    "model.compile(\"adam\", \"mse\", metrics=['mse'], )\n",
    "\n",
    "history = model.fit(train_model_input,train[target].values,batch_size=256,epochs=10,verbose=2,validation_split=0.2)\n",
    "pred_ans = model.predict(test_model_input, batch_size=256)\n",
    "print(\"test MSE\", round(mean_squared_error(test[target].values, pred_ans), 4))"
   ]
  },
  {
   "cell_type": "code",
   "execution_count": 15,
   "metadata": {},
   "outputs": [],
   "source": [
    "# cai de yi"
   ]
  }
 ]
}