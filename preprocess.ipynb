{
 "metadata": {
  "language_info": {
   "codemirror_mode": {
    "name": "ipython",
    "version": 3
   },
   "file_extension": ".py",
   "mimetype": "text/x-python",
   "name": "python",
   "nbconvert_exporter": "python",
   "pygments_lexer": "ipython3",
   "version": "3.6.5-final"
  },
  "orig_nbformat": 2,
  "kernelspec": {
   "name": "python3",
   "display_name": "Python 3"
  }
 },
 "nbformat": 4,
 "nbformat_minor": 2,
 "cells": [
  {
   "cell_type": "code",
   "execution_count": 1,
   "metadata": {},
   "outputs": [],
   "source": [
    "import pandas as pd\n",
    "import numpy as np"
   ]
  },
  {
   "cell_type": "code",
   "execution_count": 2,
   "metadata": {},
   "outputs": [],
   "source": [
    "df_ratings = pd.read_csv(\"./data/ratings_small.csv\")\n",
    "df_metadata = pd.read_csv(\"./data/movies_metadata.csv\")\n",
    "df_credits = pd.read_csv(\"./data/credits.csv\")\n",
    "df_keywords = pd.read_csv(\"./data/keywords.csv\")"
   ]
  },
  {
   "cell_type": "code",
   "execution_count": 3,
   "metadata": {},
   "outputs": [
    {
     "output_type": "execute_result",
     "data": {
      "text/plain": [
       "862.0"
      ]
     },
     "metadata": {},
     "execution_count": 3
    }
   ],
   "source": [
    "df_metadata['id'] = pd.to_numeric(df_metadata['id'], errors='coerce', downcast='integer')\n",
    "df_metadata['id'][0]"
   ]
  },
  {
   "cell_type": "code",
   "execution_count": 4,
   "metadata": {},
   "outputs": [
    {
     "output_type": "execute_result",
     "data": {
      "text/plain": [
       "8844"
      ]
     },
     "metadata": {},
     "execution_count": 4
    }
   ],
   "source": [
    "df_keywords['id'][1]"
   ]
  },
  {
   "cell_type": "code",
   "execution_count": 5,
   "metadata": {},
   "outputs": [
    {
     "output_type": "execute_result",
     "data": {
      "text/plain": [
       "   adult                              belongs_to_collection    budget  \\\n",
       "0  False  {'id': 10194, 'name': 'Toy Story Collection', ...  30000000   \n",
       "\n",
       "                                              genres  \\\n",
       "0  [{'id': 16, 'name': 'Animation'}, {'id': 35, '...   \n",
       "\n",
       "                               homepage     id    imdb_id original_language  \\\n",
       "0  http://toystory.disney.com/toy-story  862.0  tt0114709                en   \n",
       "\n",
       "  original_title                                           overview  \\\n",
       "0      Toy Story  Led by Woody, Andy's toys live happily in his ...   \n",
       "\n",
       "                         ...                          \\\n",
       "0                        ...                           \n",
       "\n",
       "                           spoken_languages    status tagline      title  \\\n",
       "0  [{'iso_639_1': 'en', 'name': 'English'}]  Released     NaN  Toy Story   \n",
       "\n",
       "   video  vote_average  vote_count  \\\n",
       "0  False           7.7      5415.0   \n",
       "\n",
       "                                                cast  \\\n",
       "0  [{'cast_id': 14, 'character': 'Woody (voice)',...   \n",
       "\n",
       "                                                crew  \\\n",
       "0  [{'credit_id': '52fe4284c3a36847f8024f49', 'de...   \n",
       "\n",
       "                                            keywords  \n",
       "0  [{'id': 931, 'name': 'jealousy'}, {'id': 4290,...  \n",
       "\n",
       "[1 rows x 27 columns]"
      ],
      "text/html": "<div>\n<style scoped>\n    .dataframe tbody tr th:only-of-type {\n        vertical-align: middle;\n    }\n\n    .dataframe tbody tr th {\n        vertical-align: top;\n    }\n\n    .dataframe thead th {\n        text-align: right;\n    }\n</style>\n<table border=\"1\" class=\"dataframe\">\n  <thead>\n    <tr style=\"text-align: right;\">\n      <th></th>\n      <th>adult</th>\n      <th>belongs_to_collection</th>\n      <th>budget</th>\n      <th>genres</th>\n      <th>homepage</th>\n      <th>id</th>\n      <th>imdb_id</th>\n      <th>original_language</th>\n      <th>original_title</th>\n      <th>overview</th>\n      <th>...</th>\n      <th>spoken_languages</th>\n      <th>status</th>\n      <th>tagline</th>\n      <th>title</th>\n      <th>video</th>\n      <th>vote_average</th>\n      <th>vote_count</th>\n      <th>cast</th>\n      <th>crew</th>\n      <th>keywords</th>\n    </tr>\n  </thead>\n  <tbody>\n    <tr>\n      <th>0</th>\n      <td>False</td>\n      <td>{'id': 10194, 'name': 'Toy Story Collection', ...</td>\n      <td>30000000</td>\n      <td>[{'id': 16, 'name': 'Animation'}, {'id': 35, '...</td>\n      <td>http://toystory.disney.com/toy-story</td>\n      <td>862.0</td>\n      <td>tt0114709</td>\n      <td>en</td>\n      <td>Toy Story</td>\n      <td>Led by Woody, Andy's toys live happily in his ...</td>\n      <td>...</td>\n      <td>[{'iso_639_1': 'en', 'name': 'English'}]</td>\n      <td>Released</td>\n      <td>NaN</td>\n      <td>Toy Story</td>\n      <td>False</td>\n      <td>7.7</td>\n      <td>5415.0</td>\n      <td>[{'cast_id': 14, 'character': 'Woody (voice)',...</td>\n      <td>[{'credit_id': '52fe4284c3a36847f8024f49', 'de...</td>\n      <td>[{'id': 931, 'name': 'jealousy'}, {'id': 4290,...</td>\n    </tr>\n  </tbody>\n</table>\n<p>1 rows × 27 columns</p>\n</div>"
     },
     "metadata": {},
     "execution_count": 5
    }
   ],
   "source": [
    "df_movies = pd.merge(df_metadata, df_credits, how='outer', on='id')\n",
    "df_movies = pd.merge(df_movies, df_keywords, how='outer', on='id')\n",
    "df_movies.head(1)"
   ]
  },
  {
   "cell_type": "code",
   "execution_count": 6,
   "metadata": {},
   "outputs": [
    {
     "output_type": "execute_result",
     "data": {
      "text/plain": [
       "   adult    budget                                             genres     id  \\\n",
       "0      0  30000000  [{'id': 16, 'name': 'Animation'}, {'id': 35, '...  862.0   \n",
       "\n",
       "  original_language popularity  \\\n",
       "0                en    21.9469   \n",
       "\n",
       "                                production_countries      revenue  runtime  \\\n",
       "0  [{'iso_3166_1': 'US', 'name': 'United States o...  373554033.0     81.0   \n",
       "\n",
       "                           spoken_languages    status  video  vote_average  \\\n",
       "0  [{'iso_639_1': 'en', 'name': 'English'}]  Released      0           7.7   \n",
       "\n",
       "   vote_count  \n",
       "0      5415.0  "
      ],
      "text/html": "<div>\n<style scoped>\n    .dataframe tbody tr th:only-of-type {\n        vertical-align: middle;\n    }\n\n    .dataframe tbody tr th {\n        vertical-align: top;\n    }\n\n    .dataframe thead th {\n        text-align: right;\n    }\n</style>\n<table border=\"1\" class=\"dataframe\">\n  <thead>\n    <tr style=\"text-align: right;\">\n      <th></th>\n      <th>adult</th>\n      <th>budget</th>\n      <th>genres</th>\n      <th>id</th>\n      <th>original_language</th>\n      <th>popularity</th>\n      <th>production_countries</th>\n      <th>revenue</th>\n      <th>runtime</th>\n      <th>spoken_languages</th>\n      <th>status</th>\n      <th>video</th>\n      <th>vote_average</th>\n      <th>vote_count</th>\n    </tr>\n  </thead>\n  <tbody>\n    <tr>\n      <th>0</th>\n      <td>0</td>\n      <td>30000000</td>\n      <td>[{'id': 16, 'name': 'Animation'}, {'id': 35, '...</td>\n      <td>862.0</td>\n      <td>en</td>\n      <td>21.9469</td>\n      <td>[{'iso_3166_1': 'US', 'name': 'United States o...</td>\n      <td>373554033.0</td>\n      <td>81.0</td>\n      <td>[{'iso_639_1': 'en', 'name': 'English'}]</td>\n      <td>Released</td>\n      <td>0</td>\n      <td>7.7</td>\n      <td>5415.0</td>\n    </tr>\n  </tbody>\n</table>\n</div>"
     },
     "metadata": {},
     "execution_count": 6
    }
   ],
   "source": [
    "movies_columns= ['adult', 'budget', 'genres', 'id', 'original_language',\n",
    "                'popularity', 'production_countries', 'revenue', 'runtime',\n",
    "                'spoken_languages', 'status', 'video', 'vote_average', 'vote_count']\n",
    "\n",
    "df_movies = df_movies[movies_columns]\n",
    "\n",
    "df_movies['video']= np.where(df_movies['video']==True, 1, 0)\n",
    "df_movies['adult']= np.where(df_movies['adult']==True, 1, 0)\n",
    "\n",
    "df_movies.head(1)"
   ]
  },
  {
   "cell_type": "code",
   "execution_count": 7,
   "metadata": {},
   "outputs": [
    {
     "output_type": "execute_result",
     "data": {
      "text/plain": [
       "   adult    budget                                             genres     id  \\\n",
       "0      0  30000000  [{'id': 16, 'name': 'Animation'}, {'id': 35, '...  862.0   \n",
       "\n",
       "  original_language popularity production_countries      revenue  runtime  \\\n",
       "0                en    21.9469                   US  373554033.0     81.0   \n",
       "\n",
       "  spoken_languages    status  video  vote_average  vote_count  \n",
       "0               en  Released      0           7.7      5415.0  "
      ],
      "text/html": "<div>\n<style scoped>\n    .dataframe tbody tr th:only-of-type {\n        vertical-align: middle;\n    }\n\n    .dataframe tbody tr th {\n        vertical-align: top;\n    }\n\n    .dataframe thead th {\n        text-align: right;\n    }\n</style>\n<table border=\"1\" class=\"dataframe\">\n  <thead>\n    <tr style=\"text-align: right;\">\n      <th></th>\n      <th>adult</th>\n      <th>budget</th>\n      <th>genres</th>\n      <th>id</th>\n      <th>original_language</th>\n      <th>popularity</th>\n      <th>production_countries</th>\n      <th>revenue</th>\n      <th>runtime</th>\n      <th>spoken_languages</th>\n      <th>status</th>\n      <th>video</th>\n      <th>vote_average</th>\n      <th>vote_count</th>\n    </tr>\n  </thead>\n  <tbody>\n    <tr>\n      <th>0</th>\n      <td>0</td>\n      <td>30000000</td>\n      <td>[{'id': 16, 'name': 'Animation'}, {'id': 35, '...</td>\n      <td>862.0</td>\n      <td>en</td>\n      <td>21.9469</td>\n      <td>US</td>\n      <td>373554033.0</td>\n      <td>81.0</td>\n      <td>en</td>\n      <td>Released</td>\n      <td>0</td>\n      <td>7.7</td>\n      <td>5415.0</td>\n    </tr>\n  </tbody>\n</table>\n</div>"
     },
     "metadata": {},
     "execution_count": 7
    }
   ],
   "source": [
    "import ast\n",
    "def modify_prod_country(x):\n",
    "    try:\n",
    "        country= [i['iso_3166_1'] for i in ast.literal_eval(x)][0]\n",
    "    except:\n",
    "        return 'NaN'\n",
    "    return country\n",
    "\n",
    "df_movies['production_countries'] = df_movies['production_countries'].apply(modify_prod_country)\n",
    "\n",
    "def modify_language(x):\n",
    "    try:\n",
    "        lang= [i['iso_639_1'] for i in ast.literal_eval(x)][0]\n",
    "    except:\n",
    "        return 'NaN'\n",
    "    return lang\n",
    "\n",
    "df_movies['spoken_languages'] = df_movies['spoken_languages'].apply(modify_language)\n",
    "\n",
    "df_movies.head(1)"
   ]
  },
  {
   "cell_type": "code",
   "execution_count": 8,
   "metadata": {},
   "outputs": [],
   "source": [
    "### genres\n",
    "def modify(x):\n",
    "    key = [i['name'] for i in ast.literal_eval(x)]\n",
    "    return key\n",
    "\n",
    "df_movies['genre_modified'] = df_movies['genres'].apply(modify)\n",
    "\n",
    "all_genre = []\n",
    "for i in df_movies['genre_modified']:\n",
    "    for j in i:\n",
    "        all_genre.append(j)\n",
    "        \n",
    "new_genre_cols = list(set(all_genre))\n",
    "\n",
    "for col in new_genre_cols:\n",
    "    df_movies[col] = 0\n",
    "    \n",
    "for i in new_genre_cols:\n",
    "    df_movies.loc[df_movies['genre_modified'].apply(lambda x: True if i in x else False), i]=1\n",
    "    \n",
    "df_movies.drop(['genres', 'genre_modified'], axis=1, inplace= True)"
   ]
  },
  {
   "cell_type": "code",
   "execution_count": 9,
   "metadata": {},
   "outputs": [
    {
     "output_type": "execute_result",
     "data": {
      "text/plain": [
       "   adult    budget     id original_language popularity production_countries  \\\n",
       "0      0  30000000  862.0                en    21.9469                   US   \n",
       "\n",
       "       revenue  runtime spoken_languages    status     ...       Documentary  \\\n",
       "0  373554033.0     81.0               en  Released     ...                 0   \n",
       "\n",
       "   Adventure  Music  Vision View Entertainment  Foreign  Science Fiction  \\\n",
       "0          0      0                          0        0                0   \n",
       "\n",
       "   The Cartel  Action  Aniplex  Rogue State  \n",
       "0           0       0        0            0  \n",
       "\n",
       "[1 rows x 45 columns]"
      ],
      "text/html": "<div>\n<style scoped>\n    .dataframe tbody tr th:only-of-type {\n        vertical-align: middle;\n    }\n\n    .dataframe tbody tr th {\n        vertical-align: top;\n    }\n\n    .dataframe thead th {\n        text-align: right;\n    }\n</style>\n<table border=\"1\" class=\"dataframe\">\n  <thead>\n    <tr style=\"text-align: right;\">\n      <th></th>\n      <th>adult</th>\n      <th>budget</th>\n      <th>id</th>\n      <th>original_language</th>\n      <th>popularity</th>\n      <th>production_countries</th>\n      <th>revenue</th>\n      <th>runtime</th>\n      <th>spoken_languages</th>\n      <th>status</th>\n      <th>...</th>\n      <th>Documentary</th>\n      <th>Adventure</th>\n      <th>Music</th>\n      <th>Vision View Entertainment</th>\n      <th>Foreign</th>\n      <th>Science Fiction</th>\n      <th>The Cartel</th>\n      <th>Action</th>\n      <th>Aniplex</th>\n      <th>Rogue State</th>\n    </tr>\n  </thead>\n  <tbody>\n    <tr>\n      <th>0</th>\n      <td>0</td>\n      <td>30000000</td>\n      <td>862.0</td>\n      <td>en</td>\n      <td>21.9469</td>\n      <td>US</td>\n      <td>373554033.0</td>\n      <td>81.0</td>\n      <td>en</td>\n      <td>Released</td>\n      <td>...</td>\n      <td>0</td>\n      <td>0</td>\n      <td>0</td>\n      <td>0</td>\n      <td>0</td>\n      <td>0</td>\n      <td>0</td>\n      <td>0</td>\n      <td>0</td>\n      <td>0</td>\n    </tr>\n  </tbody>\n</table>\n<p>1 rows × 45 columns</p>\n</div>"
     },
     "metadata": {},
     "execution_count": 9
    }
   ],
   "source": [
    "df_movies.head(1)"
   ]
  },
  {
   "cell_type": "code",
   "execution_count": 10,
   "metadata": {},
   "outputs": [
    {
     "output_type": "execute_result",
     "data": {
      "text/plain": [
       "2098440"
      ]
     },
     "metadata": {},
     "execution_count": 10
    }
   ],
   "source": [
    "df_movies.size"
   ]
  },
  {
   "cell_type": "code",
   "execution_count": 11,
   "metadata": {},
   "outputs": [
    {
     "output_type": "execute_result",
     "data": {
      "text/plain": [
       "2082240"
      ]
     },
     "metadata": {},
     "execution_count": 11
    }
   ],
   "source": [
    "df_movies.dropna(inplace=True, axis=0)\n",
    "df_movies.size"
   ]
  },
  {
   "cell_type": "code",
   "execution_count": 12,
   "metadata": {},
   "outputs": [],
   "source": [
    "del df_metadata, df_keywords, df_credits"
   ]
  },
  {
   "cell_type": "code",
   "execution_count": 13,
   "metadata": {},
   "outputs": [
    {
     "output_type": "execute_result",
     "data": {
      "text/plain": [
       "   userId  movieId  rating   timestamp\n",
       "0       1       31     2.5  1260759144"
      ],
      "text/html": "<div>\n<style scoped>\n    .dataframe tbody tr th:only-of-type {\n        vertical-align: middle;\n    }\n\n    .dataframe tbody tr th {\n        vertical-align: top;\n    }\n\n    .dataframe thead th {\n        text-align: right;\n    }\n</style>\n<table border=\"1\" class=\"dataframe\">\n  <thead>\n    <tr style=\"text-align: right;\">\n      <th></th>\n      <th>userId</th>\n      <th>movieId</th>\n      <th>rating</th>\n      <th>timestamp</th>\n    </tr>\n  </thead>\n  <tbody>\n    <tr>\n      <th>0</th>\n      <td>1</td>\n      <td>31</td>\n      <td>2.5</td>\n      <td>1260759144</td>\n    </tr>\n  </tbody>\n</table>\n</div>"
     },
     "metadata": {},
     "execution_count": 13
    }
   ],
   "source": [
    "df_ratings.head(1)"
   ]
  },
  {
   "cell_type": "code",
   "execution_count": 14,
   "metadata": {},
   "outputs": [],
   "source": [
    "df_movies = df_movies.rename(columns={'id':'movieId'})\n",
    "df_ratings.drop(['timestamp'], axis=1, inplace=True)"
   ]
  },
  {
   "cell_type": "code",
   "execution_count": 15,
   "metadata": {},
   "outputs": [],
   "source": [
    "df_movies['movieId'] = df_movies['movieId'].astype(int)\n",
    "df_ratings['movieId'] = df_ratings['movieId'].astype(int)"
   ]
  },
  {
   "cell_type": "code",
   "execution_count": 16,
   "metadata": {},
   "outputs": [
    {
     "output_type": "execute_result",
     "data": {
      "text/plain": [
       "   adult    budget  movieId original_language popularity production_countries  \\\n",
       "0      0  60000000      949                en    17.9249                   US   \n",
       "\n",
       "       revenue  runtime spoken_languages    status   ...    Music  \\\n",
       "0  187436818.0    170.0               en  Released   ...        0   \n",
       "\n",
       "   Vision View Entertainment  Foreign  Science Fiction  The Cartel  Action  \\\n",
       "0                          0        0                0           0       1   \n",
       "\n",
       "   Aniplex  Rogue State  userId  rating  \n",
       "0        0            0      23     3.5  \n",
       "\n",
       "[1 rows x 47 columns]"
      ],
      "text/html": "<div>\n<style scoped>\n    .dataframe tbody tr th:only-of-type {\n        vertical-align: middle;\n    }\n\n    .dataframe tbody tr th {\n        vertical-align: top;\n    }\n\n    .dataframe thead th {\n        text-align: right;\n    }\n</style>\n<table border=\"1\" class=\"dataframe\">\n  <thead>\n    <tr style=\"text-align: right;\">\n      <th></th>\n      <th>adult</th>\n      <th>budget</th>\n      <th>movieId</th>\n      <th>original_language</th>\n      <th>popularity</th>\n      <th>production_countries</th>\n      <th>revenue</th>\n      <th>runtime</th>\n      <th>spoken_languages</th>\n      <th>status</th>\n      <th>...</th>\n      <th>Music</th>\n      <th>Vision View Entertainment</th>\n      <th>Foreign</th>\n      <th>Science Fiction</th>\n      <th>The Cartel</th>\n      <th>Action</th>\n      <th>Aniplex</th>\n      <th>Rogue State</th>\n      <th>userId</th>\n      <th>rating</th>\n    </tr>\n  </thead>\n  <tbody>\n    <tr>\n      <th>0</th>\n      <td>0</td>\n      <td>60000000</td>\n      <td>949</td>\n      <td>en</td>\n      <td>17.9249</td>\n      <td>US</td>\n      <td>187436818.0</td>\n      <td>170.0</td>\n      <td>en</td>\n      <td>Released</td>\n      <td>...</td>\n      <td>0</td>\n      <td>0</td>\n      <td>0</td>\n      <td>0</td>\n      <td>0</td>\n      <td>1</td>\n      <td>0</td>\n      <td>0</td>\n      <td>23</td>\n      <td>3.5</td>\n    </tr>\n  </tbody>\n</table>\n<p>1 rows × 47 columns</p>\n</div>"
     },
     "metadata": {},
     "execution_count": 16
    }
   ],
   "source": [
    "df_final = pd.merge(df_movies, df_ratings, on=['movieId'])\n",
    "df_final.head(1)"
   ]
  },
  {
   "cell_type": "code",
   "execution_count": 17,
   "metadata": {},
   "outputs": [],
   "source": [
    "del df_movies, df_ratings"
   ]
  },
  {
   "cell_type": "code",
   "execution_count": 18,
   "metadata": {},
   "outputs": [
    {
     "output_type": "execute_result",
     "data": {
      "text/plain": [
       "   adult    budget  movieId  original_language popularity  \\\n",
       "0      0  60000000      949                  6    17.9249   \n",
       "\n",
       "   production_countries      revenue  runtime  spoken_languages  status  \\\n",
       "0                    59  187436818.0    170.0                15       2   \n",
       "\n",
       "    ...    Music  Vision View Entertainment  Foreign  Science Fiction  \\\n",
       "0   ...        0                          0        0                0   \n",
       "\n",
       "   The Cartel  Action  Aniplex  Rogue State  userId  rating  \n",
       "0           0       1        0            0      22     3.5  \n",
       "\n",
       "[1 rows x 47 columns]"
      ],
      "text/html": "<div>\n<style scoped>\n    .dataframe tbody tr th:only-of-type {\n        vertical-align: middle;\n    }\n\n    .dataframe tbody tr th {\n        vertical-align: top;\n    }\n\n    .dataframe thead th {\n        text-align: right;\n    }\n</style>\n<table border=\"1\" class=\"dataframe\">\n  <thead>\n    <tr style=\"text-align: right;\">\n      <th></th>\n      <th>adult</th>\n      <th>budget</th>\n      <th>movieId</th>\n      <th>original_language</th>\n      <th>popularity</th>\n      <th>production_countries</th>\n      <th>revenue</th>\n      <th>runtime</th>\n      <th>spoken_languages</th>\n      <th>status</th>\n      <th>...</th>\n      <th>Music</th>\n      <th>Vision View Entertainment</th>\n      <th>Foreign</th>\n      <th>Science Fiction</th>\n      <th>The Cartel</th>\n      <th>Action</th>\n      <th>Aniplex</th>\n      <th>Rogue State</th>\n      <th>userId</th>\n      <th>rating</th>\n    </tr>\n  </thead>\n  <tbody>\n    <tr>\n      <th>0</th>\n      <td>0</td>\n      <td>60000000</td>\n      <td>949</td>\n      <td>6</td>\n      <td>17.9249</td>\n      <td>59</td>\n      <td>187436818.0</td>\n      <td>170.0</td>\n      <td>15</td>\n      <td>2</td>\n      <td>...</td>\n      <td>0</td>\n      <td>0</td>\n      <td>0</td>\n      <td>0</td>\n      <td>0</td>\n      <td>1</td>\n      <td>0</td>\n      <td>0</td>\n      <td>22</td>\n      <td>3.5</td>\n    </tr>\n  </tbody>\n</table>\n<p>1 rows × 47 columns</p>\n</div>"
     },
     "metadata": {},
     "execution_count": 18
    }
   ],
   "source": [
    "from sklearn.preprocessing import LabelEncoder\n",
    "\n",
    "char_cols= ['userId', 'original_language', 'production_countries', 'spoken_languages', 'status', 'video']\n",
    "for col in char_cols:\n",
    "    le = LabelEncoder()\n",
    "    le.fit(list(df_final[col]))\n",
    "    df_final[col]= le.transform(list(df_final[col]))\n",
    "df_final.head(1)"
   ]
  },
  {
   "cell_type": "code",
   "execution_count": 19,
   "metadata": {},
   "outputs": [],
   "source": [
    "df_final.to_csv('movie_data.csv', index=False)"
   ]
  },
  {
   "cell_type": "code",
   "execution_count": 20,
   "metadata": {},
   "outputs": [
    {
     "output_type": "execute_result",
     "data": {
      "text/plain": [
       "   adult    budget  movieId  original_language  popularity  \\\n",
       "0      0  60000000      949                  6   17.924927   \n",
       "\n",
       "   production_countries      revenue  runtime  spoken_languages  status  \\\n",
       "0                    59  187436818.0    170.0                15       2   \n",
       "\n",
       "    ...    Music  Vision View Entertainment  Foreign  Science Fiction  \\\n",
       "0   ...        0                          0        0                0   \n",
       "\n",
       "   The Cartel  Action  Aniplex  Rogue State  userId  rating  \n",
       "0           0       1        0            0      22     3.5  \n",
       "\n",
       "[1 rows x 47 columns]"
      ],
      "text/html": "<div>\n<style scoped>\n    .dataframe tbody tr th:only-of-type {\n        vertical-align: middle;\n    }\n\n    .dataframe tbody tr th {\n        vertical-align: top;\n    }\n\n    .dataframe thead th {\n        text-align: right;\n    }\n</style>\n<table border=\"1\" class=\"dataframe\">\n  <thead>\n    <tr style=\"text-align: right;\">\n      <th></th>\n      <th>adult</th>\n      <th>budget</th>\n      <th>movieId</th>\n      <th>original_language</th>\n      <th>popularity</th>\n      <th>production_countries</th>\n      <th>revenue</th>\n      <th>runtime</th>\n      <th>spoken_languages</th>\n      <th>status</th>\n      <th>...</th>\n      <th>Music</th>\n      <th>Vision View Entertainment</th>\n      <th>Foreign</th>\n      <th>Science Fiction</th>\n      <th>The Cartel</th>\n      <th>Action</th>\n      <th>Aniplex</th>\n      <th>Rogue State</th>\n      <th>userId</th>\n      <th>rating</th>\n    </tr>\n  </thead>\n  <tbody>\n    <tr>\n      <th>0</th>\n      <td>0</td>\n      <td>60000000</td>\n      <td>949</td>\n      <td>6</td>\n      <td>17.924927</td>\n      <td>59</td>\n      <td>187436818.0</td>\n      <td>170.0</td>\n      <td>15</td>\n      <td>2</td>\n      <td>...</td>\n      <td>0</td>\n      <td>0</td>\n      <td>0</td>\n      <td>0</td>\n      <td>0</td>\n      <td>1</td>\n      <td>0</td>\n      <td>0</td>\n      <td>22</td>\n      <td>3.5</td>\n    </tr>\n  </tbody>\n</table>\n<p>1 rows × 47 columns</p>\n</div>"
     },
     "metadata": {},
     "execution_count": 20
    }
   ],
   "source": [
    "data = pd.read_csv('movie_data.csv')\n",
    "data.head(1)"
   ]
  },
  {
   "cell_type": "code",
   "execution_count": null,
   "metadata": {},
   "outputs": [],
   "source": []
  }
 ]
}